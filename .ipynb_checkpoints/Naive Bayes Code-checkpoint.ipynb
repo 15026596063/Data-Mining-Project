{
 "metadata": {
  "name": "",
  "signature": "sha256:4dd7867e8934ba7980fd61f1cdbc7df7ff1cccafc3f287e3da0b94562583a3d7"
 },
 "nbformat": 3,
 "nbformat_minor": 0,
 "worksheets": [
  {
   "cells": [
    {
     "cell_type": "code",
     "collapsed": false,
     "input": [
      "from __future__ import division\n",
      "import numpy as np\n",
      "import pandas as pd\n",
      "import sklearn\n",
      "from sklearn.naive_bayes import *\n",
      "from sklearn.metrics import *\n",
      "import os\n",
      "import cPickle\n",
      "import sys\n",
      "import pandas as pd\n",
      "import numpy as np\n",
      "from optparse import OptionParser\n",
      "from sklearn import metrics, preprocessing\n",
      "from sklearn import svm, naive_bayes, neighbors, tree\n",
      "from sklearn.ensemble import AdaBoostClassifier\n",
      "from sklearn import cross_validation\n",
      "from sklearn.ensemble import RandomForestClassifier # random forest\n",
      "from sklearn.svm import SVC # support vector machine classifier\n",
      "from sklearn.grid_search import GridSearchCV # hyperparameter grid search to find best model parameters\n",
      "from sklearn import preprocessing # preprocess string labels into numerics\n",
      "from sklearn import *\n",
      "from sklearn.metrics import precision_recall_fscore_support\n",
      "from sklearn.metrics import classification_report"
     ],
     "language": "python",
     "metadata": {},
     "outputs": [],
     "prompt_number": 197
    },
    {
     "cell_type": "code",
     "collapsed": false,
     "input": [
      "# Setting up constants\n",
      "print \"Setting constants...\"\n",
      "\n",
      "TRAINING_LINE_NUMBER = 1000000\n",
      "YEARS = ['2008']\n",
      "# INPUT_FILE_PATH = \"/home/dmenghani/python/\"  # Unix path\n",
      "INPUT_FILE_PATH = \"C:\\\\data\\\\airline\\\\\"  # Windows path\n",
      "# YEARS = ['2008']\n",
      "\n",
      "SKIP_FIRST_LINE = True  # To skip the first line, as its the header\n",
      "\n",
      "master = []\n",
      "print \"Reading into Pandas frame...\"\n",
      "try:\n",
      "    for year in YEARS:\n",
      "        path = os.path.join(INPUT_FILE_PATH, '%d.csv' % int(year))\n",
      "        print \"\\n\",path\n",
      "        dfPart = pd.read_csv(\n",
      "            path, nrows=TRAINING_LINE_NUMBER, skiprows=0, usecols=[\n",
      "                u'Year', \n",
      "                u'Month', \n",
      "                u'DayofMonth', \n",
      "                u'DayOfWeek', \n",
      "                u'UniqueCarrier',\n",
      "                u'DepTime', \n",
      "                u'TailNum', \n",
      "                u'Origin', \n",
      "                u'Dest', \n",
      "                u'DepDelay', \n",
      "#                 u'ArrDelay', \n",
      "                u'Cancelled',\n",
      "#                 u'ArrTime',\n",
      "#                 u'ArrDelay',\n",
      "#                 u'Distance'\n",
      "            ])\n",
      "        print len(dfPart)\n",
      "        dfPart = dfPart[dfPart['Cancelled'] == 0]\n",
      "        print \"Removed cancelled flights, new length - \",len(dfPart)\n",
      "        master.append(dfPart)\n",
      "        print\n",
      "except Exception as e:\n",
      "    print \"Supplemental Data Import failed\", e\n",
      "\n",
      "dfMaster = pd.concat(master, ignore_index=True)\n",
      "master=[]\n",
      "dfPart=[]\n",
      "\n",
      "print \"Total length - \", len(dfMaster)\n",
      "del dfMaster['Cancelled']\n",
      "\n",
      "dfMaster.fillna(0, inplace=True)\n",
      "dfMaster['Year'] = dfMaster['Year'].astype('int')\n",
      "dfMaster['Month'] = dfMaster['Month'].astype('int')\n",
      "dfMaster['DayofMonth'] = dfMaster['DayofMonth'].astype('int')\n",
      "dfMaster['DayOfWeek'] = dfMaster['DayOfWeek'].astype('int')\n",
      "dfMaster['DepTime'] = dfMaster['DepTime'].astype('int')\n",
      "# dfMaster['ArrTime'] = dfMaster['ArrTime'].astype('int')\n",
      "# dfMaster['ArrDelay'] = dfMaster['ArrDelay'].astype('int')\n",
      "dfMaster['DepDelay'] = dfMaster['DepDelay'].astype('int')\n",
      "# dfMaster['Distance'] = dfMaster['Distance'].astype('int')\n",
      "\n",
      "df = dfMaster\n",
      "\n",
      "print \"Calculating classification label...\"\n",
      "df['label'] = 0\n",
      "df.label[df.DepDelay >= 15] = 1\n",
      "df.label[df.DepDelay < 15] = 0\n",
      "\n",
      "df['DepDelay'][df.DepDelay < 0]=0\n",
      "del df['DepDelay']\n",
      "# df['ArrDelay'][df.ArrDelay < 0]=0\n",
      "\n",
      "print \"Dataframe shape - \",df.shape\n",
      "print \"Columns -\", df.columns"
     ],
     "language": "python",
     "metadata": {},
     "outputs": [
      {
       "output_type": "stream",
       "stream": "stdout",
       "text": [
        "Setting constants...\n",
        "Reading into Pandas frame...\n",
        "\n",
        "C:\\data\\airline\\2008.csv\n",
        "1000000"
       ]
      },
      {
       "output_type": "stream",
       "stream": "stdout",
       "text": [
        "\n",
        "Removed cancelled flights, new length - "
       ]
      },
      {
       "output_type": "stream",
       "stream": "stdout",
       "text": [
        " 967867\n",
        "\n",
        "Total length - "
       ]
      },
      {
       "output_type": "stream",
       "stream": "stdout",
       "text": [
        " 967867\n",
        "Calculating classification label..."
       ]
      },
      {
       "output_type": "stream",
       "stream": "stdout",
       "text": [
        "\n",
        "Dataframe shape -  (967867, 10)\n",
        "Columns - Index([u'Year', u'Month', u'DayofMonth', u'DayOfWeek', u'DepTime', u'UniqueCarrier', u'TailNum', u'Origin', u'Dest', u'label'], dtype='object')\n"
       ]
      }
     ],
     "prompt_number": 198
    },
    {
     "cell_type": "code",
     "collapsed": false,
     "input": [
      "print \"Converting categorical data to numeric...\"\n",
      "for col in set(df.columns):\n",
      "# print col, train[col].dtype\n",
      "    if df[col].dtype == np.dtype('object'):\n",
      "        print \"Converting...\", col\n",
      "        if col == 'TailNum':\n",
      "            s = np.unique(df[col].values)\n",
      "            TailNum = pd.Series([x[0] for x in enumerate(s)], index=s)\n",
      "#             print TailNum\n",
      "        if col == 'UniqueCarrier':\n",
      "            s = np.unique(df[col].values)\n",
      "            UniqueCarrier = pd.Series([x[0] for x in enumerate(s)], index=s)\n",
      "#             print UniqueCarrier\n",
      "        if col == 'Dest':\n",
      "            s = np.unique(df[col].values)\n",
      "            Dest = pd.Series([x[0] for x in enumerate(s)], index=s)\n",
      "#             print Dest\n",
      "        if col == 'Origin':\n",
      "            s = np.unique(df[col].values)\n",
      "            Origin = pd.Series([x[0] for x in enumerate(s)], index=s)\n",
      "#             print Origin\n",
      "\n",
      "\n",
      "def getTailNum(inTailNum):\n",
      "#     print \"In...\",type(inTailNum)\n",
      "    out = []\n",
      "    for x, y in inTailNum.iteritems():\n",
      "#         print \"x,y, out\",x,y,TailNum.get_value(y)\n",
      "        out.append(TailNum.get_value(y) + 1)\n",
      "#     print \"final out\", out\n",
      "    return out\n",
      "\n",
      "\n",
      "def getDest(inDest):\n",
      "    out = []\n",
      "    for x, y in inDest.iteritems():\n",
      "        out.append(Dest.get_value(y) + 1)\n",
      "    return out\n",
      "\n",
      "\n",
      "def getOrigin(inOrign):\n",
      "    out = []\n",
      "    for x, y in inOrign.iteritems():\n",
      "        out.append(Origin.get_value(y) + 1)\n",
      "    return out\n",
      "\n",
      "\n",
      "def getCarrier(inCarrier):\n",
      "    out = []\n",
      "    for x, y in inCarrier.iteritems():\n",
      "        out.append(UniqueCarrier.get_value(y) + 1)\n",
      "    return out\n",
      "\n",
      "df['TailNum'] = getTailNum(df['TailNum'])\n",
      "print \"TailNum completed.\"\n",
      "\n",
      "df['Dest'] = getDest(df['Dest'])\n",
      "print \"Dest completed.\"\n",
      "\n",
      "df['UniqueCarrier'] = getCarrier(df['UniqueCarrier'])\n",
      "print \"UniqueCarrier completed.\"\n",
      "\n",
      "df['Origin'] = getOrigin(df['Origin'])\n",
      "print \"Origin completed.\"\n",
      "\n",
      "print \"Conversion to numeric completed.\"\n",
      "\n",
      "# print \"Pickling converted data...\"\n",
      "# df.to_pickle(INPUT_FILE_PATH + \"\\df.pkl\")"
     ],
     "language": "python",
     "metadata": {},
     "outputs": [
      {
       "output_type": "stream",
       "stream": "stdout",
       "text": [
        "Converting categorical data to numeric...\n",
        "Converting... Origin\n",
        "Converting..."
       ]
      },
      {
       "output_type": "stream",
       "stream": "stdout",
       "text": [
        " UniqueCarrier\n",
        "Converting..."
       ]
      },
      {
       "output_type": "stream",
       "stream": "stdout",
       "text": [
        " Dest\n",
        "Converting..."
       ]
      },
      {
       "output_type": "stream",
       "stream": "stdout",
       "text": [
        " TailNum\n",
        "TailNum completed."
       ]
      },
      {
       "output_type": "stream",
       "stream": "stdout",
       "text": [
        "\n",
        "Dest completed."
       ]
      },
      {
       "output_type": "stream",
       "stream": "stdout",
       "text": [
        "\n",
        "UniqueCarrier completed."
       ]
      },
      {
       "output_type": "stream",
       "stream": "stdout",
       "text": [
        "\n",
        "Origin completed."
       ]
      },
      {
       "output_type": "stream",
       "stream": "stdout",
       "text": [
        "\n",
        "Conversion to numeric completed.\n"
       ]
      }
     ],
     "prompt_number": 199
    },
    {
     "cell_type": "code",
     "collapsed": false,
     "input": [
      "Origin['SFO'], Origin['OAK']"
     ],
     "language": "python",
     "metadata": {},
     "outputs": [
      {
       "metadata": {},
       "output_type": "pyout",
       "prompt_number": 200,
       "text": [
        "(243, 192)"
       ]
      }
     ],
     "prompt_number": 200
    },
    {
     "cell_type": "code",
     "collapsed": false,
     "input": [
      "print \"Begin classification...75% training, 25% testing, randomly chosen\"\n",
      "\n",
      "# add columns to your data frame\n",
      "\n",
      "df['is_train'] = np.random.uniform(0, 1, len(df)) <= 0.75\n",
      "\n",
      "# define training and test sets\n",
      "train = df[df['is_train'] == True]\n",
      "test = df[df['is_train'] == False]\n",
      "trainTargets = np.array(train['label']).astype(int)\n",
      "testTargets = np.array(test['label']).astype(int)\n",
      "features = df.columns[0:9]\n",
      "\n",
      "testSFO = test[test['Dest']==Origin['SFO']]\n",
      "print len(testSFO)\n",
      "\n",
      "testOAK = test[test['Dest']==Origin['OAK']]\n",
      "print len(testOAK)\n",
      "\n",
      "print \"Model fitting and prediction started...\"\n",
      "gnb = tree.DecisionTreeClassifier()\n",
      "\n",
      "# train model\n",
      "y_gnb = gnb.fit(train[features], trainTargets).predict(test[features])\n",
      "y_prob = gnb.fit(train[features], trainTargets).predict_proba(test[features])\n",
      "\n",
      "print \"Classification completed.\""
     ],
     "language": "python",
     "metadata": {},
     "outputs": [
      {
       "output_type": "stream",
       "stream": "stdout",
       "text": [
        "Begin classification...75% training, 25% testing, randomly chosen\n",
        "887"
       ]
      },
      {
       "output_type": "stream",
       "stream": "stdout",
       "text": [
        "\n",
        "39\n",
        "Model fitting and prediction started...\n",
        "Classification completed."
       ]
      },
      {
       "output_type": "stream",
       "stream": "stdout",
       "text": [
        "\n"
       ]
      }
     ],
     "prompt_number": 215
    },
    {
     "cell_type": "code",
     "collapsed": false,
     "input": [
      "features"
     ],
     "language": "python",
     "metadata": {},
     "outputs": [
      {
       "metadata": {},
       "output_type": "pyout",
       "prompt_number": 216,
       "text": [
        "Index([u'Year', u'Month', u'DayofMonth', u'DayOfWeek', u'DepTime', u'UniqueCarrier', u'TailNum', u'Origin', u'Dest'], dtype='object')"
       ]
      }
     ],
     "prompt_number": 216
    },
    {
     "cell_type": "code",
     "collapsed": false,
     "input": [
      "print \"Calculating metrcs...\"\n",
      "# test['pred_label'] = y_gnb\n",
      "# test.head()\n",
      "acc = zip(test['label'], y_gnb)\n",
      "match_count = 0\n",
      "for i in acc:\n",
      "    if i[0] ==  i[1]:\n",
      "        match_count += 1\n",
      "print \"Matches - \", match_count\n",
      "print \"Total length - \", len(acc)\n",
      "print \"Accuracy:\", float(match_count) / len(acc)"
     ],
     "language": "python",
     "metadata": {},
     "outputs": [
      {
       "output_type": "stream",
       "stream": "stdout",
       "text": [
        "Calculating metrcs...\n",
        "Matches - "
       ]
      },
      {
       "output_type": "stream",
       "stream": "stdout",
       "text": [
        " 184048\n",
        "Total length -  242386\n",
        "Accuracy: 0.75931778238\n"
       ]
      }
     ],
     "prompt_number": 217
    },
    {
     "cell_type": "code",
     "collapsed": false,
     "input": [
      "print accuracy_score(test['label'],y_gnb)\n",
      "print metrics.confusion_matrix(test['label'],y_gnb)"
     ],
     "language": "python",
     "metadata": {},
     "outputs": [
      {
       "output_type": "stream",
       "stream": "stdout",
       "text": [
        "0.75931778238\n",
        "[[157152  29405]\n",
        " [ 28933  26896]]"
       ]
      },
      {
       "output_type": "stream",
       "stream": "stdout",
       "text": [
        "\n"
       ]
      }
     ],
     "prompt_number": 218
    },
    {
     "cell_type": "code",
     "collapsed": false,
     "input": [
      "gnb.feature_importances_"
     ],
     "language": "python",
     "metadata": {},
     "outputs": [
      {
       "metadata": {},
       "output_type": "pyout",
       "prompt_number": 219,
       "text": [
        "array([ 0.        ,  0.01151212,  0.0552584 ,  0.03722765,  0.28496385,\n",
        "        0.07264084,  0.2130565 ,  0.16164198,  0.16369866])"
       ]
      }
     ],
     "prompt_number": 219
    },
    {
     "cell_type": "code",
     "collapsed": false,
     "input": [
      "features"
     ],
     "language": "python",
     "metadata": {},
     "outputs": [
      {
       "metadata": {},
       "output_type": "pyout",
       "prompt_number": 222,
       "text": [
        "Index([u'Year', u'Month', u'DayofMonth', u'DayOfWeek', u'DepTime', u'UniqueCarrier', u'TailNum', u'Origin', u'Dest'], dtype='object')"
       ]
      }
     ],
     "prompt_number": 222
    },
    {
     "cell_type": "code",
     "collapsed": false,
     "input": [
      "# average_precision_score(test['label'],y_gnb)\n",
      "precision_recall_fscore_support(test['label'],y_gnb,average='micro')"
     ],
     "language": "python",
     "metadata": {},
     "outputs": [
      {
       "metadata": {},
       "output_type": "pyout",
       "prompt_number": 223,
       "text": [
        "(0.47771798014244865, 0.48175679306453634, 0.47972888611433151, 55829)"
       ]
      }
     ],
     "prompt_number": 223
    },
    {
     "cell_type": "code",
     "collapsed": false,
     "input": [
      "# dfMaster['FlightDate'] =pd.to_datetime(dfMaster.Year*10000+dfMaster.Month*100+dfMaster.DayofMonth,format='%Y%m%d')"
     ],
     "language": "python",
     "metadata": {},
     "outputs": [],
     "prompt_number": 206
    },
    {
     "cell_type": "code",
     "collapsed": false,
     "input": [
      "# dfAirport = dfMaster[['FlightDate','Origin']].groupby([dfMaster['FlightDate'],dfMaster['Origin']]).agg([len])\n",
      "# # dfAirport.to_clipboard()\n",
      "# dfAirport"
     ],
     "language": "python",
     "metadata": {},
     "outputs": [],
     "prompt_number": 207
    },
    {
     "cell_type": "code",
     "collapsed": false,
     "input": [
      "print y_gnb[:10]\n",
      "print y_prob[:10]"
     ],
     "language": "python",
     "metadata": {},
     "outputs": [
      {
       "output_type": "stream",
       "stream": "stdout",
       "text": [
        "[0 0 0 1 1 0 0 0 1 1]\n",
        "[[ 1.  0.]\n",
        " [ 1.  0.]\n",
        " [ 1.  0.]\n",
        " [ 0.  1.]\n",
        " [ 0.  1.]\n",
        " [ 1.  0.]\n",
        " [ 1.  0.]\n",
        " [ 1.  0.]\n",
        " [ 0.  1.]\n",
        " [ 0.  1.]]\n"
       ]
      }
     ],
     "prompt_number": 224
    },
    {
     "cell_type": "code",
     "collapsed": false,
     "input": [
      "dfMaster[:100].to_csv(\"C:\\\\data\\\\airline\\\\SampleData.csv\")"
     ],
     "language": "python",
     "metadata": {},
     "outputs": [],
     "prompt_number": 227
    }
   ],
   "metadata": {}
  }
 ]
}